{
 "cells": [
  {
   "cell_type": "code",
   "execution_count": null,
   "id": "c176b71d",
   "metadata": {},
   "outputs": [],
   "source": [
    "phone_number = {'Amal' :1111111111, 'Mohammed' :2222222222 , 'Khadijah': 3333333333,\n",
    "\n",
    "'Abdullah': 4444444444, 'Rwan': 5555555555, 'Fisal' :666, 'Layla' : 7777777777}\n",
    "\n",
    "xx = input ('Enter the number : ' )\n",
    "\n",
    "if not xx.isdigit() or int(xx) < 10:\n",
    "\n",
    "    print('This is an invalid number')\n",
    "\n",
    "    exit()\n",
    "\n",
    "phone_belong_to = None\n",
    "\n",
    "for k,v in phone_number.items() :\n",
    "\n",
    "    if v == int(xx):\n",
    "\n",
    "        print('This phone number', v,'belongs to', k)\n",
    "\n",
    "        phone_belong_to = k\n",
    "\n",
    "        break\n",
    "\n",
    "if phone_belong_to is None:\n",
    "\n",
    "    print('Sorry, the number is not found!')"
   ]
  },
  {
   "cell_type": "code",
   "execution_count": null,
   "id": "c5b159c2",
   "metadata": {},
   "outputs": [],
   "source": []
  },
  {
   "cell_type": "code",
   "execution_count": null,
   "id": "74cc3ab2",
   "metadata": {},
   "outputs": [],
   "source": []
  },
  {
   "cell_type": "code",
   "execution_count": null,
   "id": "c29c68c6",
   "metadata": {},
   "outputs": [],
   "source": []
  },
  {
   "cell_type": "code",
   "execution_count": null,
   "id": "540df915",
   "metadata": {},
   "outputs": [],
   "source": []
  }
 ],
 "metadata": {
  "kernelspec": {
   "display_name": "Python 3 (ipykernel)",
   "language": "python",
   "name": "python3"
  },
  "language_info": {
   "codemirror_mode": {
    "name": "ipython",
    "version": 3
   },
   "file_extension": ".py",
   "mimetype": "text/x-python",
   "name": "python",
   "nbconvert_exporter": "python",
   "pygments_lexer": "ipython3",
   "version": "3.9.13"
  }
 },
 "nbformat": 4,
 "nbformat_minor": 5
}
